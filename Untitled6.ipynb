{
 "cells": [
  {
   "cell_type": "code",
   "execution_count": 4,
   "id": "243e9707",
   "metadata": {},
   "outputs": [
    {
     "name": "stdout",
     "output_type": "stream",
     "text": [
      "[1, 2, 8, 9, 32, 2, 5, 7]\n"
     ]
    }
   ],
   "source": [
    "import numpy as np\n",
    "a=np.array([1,2,8,9,32,2,5,7])\n",
    "y=a.tolist()\n",
    "print(y)"
   ]
  },
  {
   "cell_type": "code",
   "execution_count": 3,
   "id": "3b6cb981",
   "metadata": {},
   "outputs": [
    {
     "name": "stdout",
     "output_type": "stream",
     "text": [
      "[[0 1 2]\n",
      " [3 4 5]\n",
      " [6 7 8]]\n",
      "12\n"
     ]
    }
   ],
   "source": [
    "import numpy as np\n",
    "a = np.array([[0,1,2],[3,4,5],[6,7,8]])\n",
    "print(a)\n",
    "y = np.trace(a)\n",
    "print(y)"
   ]
  },
  {
   "cell_type": "code",
   "execution_count": 6,
   "id": "e405ffe3",
   "metadata": {},
   "outputs": [
    {
     "name": "stdout",
     "output_type": "stream",
     "text": [
      "[array([[False, False],\n",
      "       [ True,  True]])]\n"
     ]
    }
   ],
   "source": [
    "import numpy as np\n",
    "a = np.array([[1,2],[3,5]])\n",
    "y=2\n",
    "new_value =a[a>2]\n",
    "print(new_value)"
   ]
  },
  {
   "cell_type": "code",
   "execution_count": 8,
   "id": "0af7a13a",
   "metadata": {},
   "outputs": [
    {
     "name": "stdout",
     "output_type": "stream",
     "text": [
      "[[  9  11  16]\n",
      " [ 28  38 134]\n",
      " [  3  30  30]]\n"
     ]
    }
   ],
   "source": [
    "import numpy as np\n",
    "a=np.array([[2 , 3, 7],[13, 18, 133],[1, 27, 24]])\n",
    "b=np.array([[7 ,8  ,9],[15, 20, 1],[2 ,3, 6]])\n",
    "c=a+b\n",
    "print(c)"
   ]
  },
  {
   "cell_type": "code",
   "execution_count": 9,
   "id": "c8df863d",
   "metadata": {},
   "outputs": [
    {
     "name": "stdout",
     "output_type": "stream",
     "text": [
      "[[ -3   1   2]\n",
      " [ 36 -13 -23]\n",
      " [ 21   1 -23]]\n"
     ]
    }
   ],
   "source": [
    "import numpy as np\n",
    "a=np.matrix([[1,5,6],\n",
    "             [80,30,20],\n",
    "             [50,30,5]])\n",
    "for i in range(len(a)):\n",
    "    a[i]=a[i]-a[i].mean()\n",
    "print(a)"
   ]
  },
  {
   "cell_type": "code",
   "execution_count": null,
   "id": "2f68ffb6",
   "metadata": {},
   "outputs": [],
   "source": []
  }
 ],
 "metadata": {
  "kernelspec": {
   "display_name": "Python 3 (ipykernel)",
   "language": "python",
   "name": "python3"
  },
  "language_info": {
   "codemirror_mode": {
    "name": "ipython",
    "version": 3
   },
   "file_extension": ".py",
   "mimetype": "text/x-python",
   "name": "python",
   "nbconvert_exporter": "python",
   "pygments_lexer": "ipython3",
   "version": "3.9.12"
  }
 },
 "nbformat": 4,
 "nbformat_minor": 5
}
